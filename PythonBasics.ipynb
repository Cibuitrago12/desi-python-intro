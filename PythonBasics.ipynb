{
 "cells": [
  {
   "cell_type": "markdown",
   "metadata": {
    "colab_type": "text",
    "id": "HUbeBkUc9-kM"
   },
   "source": [
    "## DESI Python Intro!\n",
    "\n",
    "This short notebook will show you some of the basics of python and prepare you to analyze DESI data."
   ]
  },
  {
   "cell_type": "markdown",
   "metadata": {
    "colab_type": "text",
    "id": "IKa1t2AB9-kO"
   },
   "source": [
    "### Variables\n",
    "Creating a variable that holds data such as the number 5"
   ]
  },
  {
   "cell_type": "code",
   "execution_count": 6,
   "metadata": {
    "colab": {},
    "colab_type": "code",
    "id": "mJorPGzP9-kQ"
   },
   "outputs": [
    {
     "name": "stdout",
     "output_type": "stream",
     "text": [
      "5\n"
     ]
    }
   ],
   "source": [
    "# make a new variable, the computer will \n",
    "# store information into this variable \n",
    "# called \"variable\"\n",
    "variable = 5\n",
    "\n",
    "# if we type \"print()\" with the variable name between \n",
    "# the '()' then the computer shows what's inside the variable\n",
    "# this will be a useful function to figure out what is what\n",
    "print(variable) "
   ]
  },
  {
   "cell_type": "markdown",
   "metadata": {
    "colab_type": "text",
    "id": "B7K4i8YP9-kX"
   },
   "source": [
    "Checking the type of the variable, this will show that the variable is an integer"
   ]
  },
  {
   "cell_type": "code",
   "execution_count": 3,
   "metadata": {
    "colab": {},
    "colab_type": "code",
    "id": "jf4D7aUT9-kY"
   },
   "outputs": [
    {
     "name": "stdout",
     "output_type": "stream",
     "text": [
      "<class 'int'>\n"
     ]
    }
   ],
   "source": [
    "# several types in python\n",
    "# integer means number, specifically whole numbers\n",
    "print(type(variable))"
   ]
  },
  {
   "cell_type": "markdown",
   "metadata": {
    "colab_type": "text",
    "id": "50HWD_nd9-ke"
   },
   "source": [
    "Next we will check some other data types that are commonly used in python"
   ]
  },
  {
   "cell_type": "code",
   "execution_count": 4,
   "metadata": {
    "colab": {},
    "colab_type": "code",
    "id": "KAAK9gjW9-ki"
   },
   "outputs": [],
   "source": [
    "integer = 7\n",
    "floatingPoint = 2.5\n",
    "string = 'hello world'\n",
    "boolean = True\n",
    "lists = [3,1,4,1,5,9,2,6]\n",
    "dictionary = {\n",
    "    'key':'value'\n",
    "}"
   ]
  },
  {
   "cell_type": "code",
   "execution_count": 5,
   "metadata": {
    "colab": {},
    "colab_type": "code",
    "id": "_f-2vm_O9-kp"
   },
   "outputs": [
    {
     "name": "stdout",
     "output_type": "stream",
     "text": [
      "<class 'int'>\n",
      "<class 'float'>\n",
      "<class 'str'>\n",
      "<class 'bool'>\n",
      "<class 'list'>\n",
      "<class 'dict'>\n"
     ]
    }
   ],
   "source": [
    "print(type(integer))\n",
    "print(type(floatingPoint))\n",
    "print(type(string))\n",
    "print(type(boolean))\n",
    "print(type(lists))\n",
    "print(type(dictionary))"
   ]
  },
  {
   "cell_type": "markdown",
   "metadata": {
    "colab_type": "text",
    "id": "sPaFfqZh9-ks"
   },
   "source": [
    "Integers are all numbers that are not decimals excluding imaginary or complex and Floats are all numbers excluding imaginary or complex. All integers can be floats but not all floats can be integers unless they are rounded."
   ]
  },
  {
   "cell_type": "markdown",
   "metadata": {
    "colab_type": "text",
    "id": "7QbMuSyF9-ku"
   },
   "source": [
    "Here is code showing how integers and floats can be used and changed to the opposite:"
   ]
  },
  {
   "cell_type": "markdown",
   "metadata": {
    "colab_type": "text",
    "id": "32lP90Pj9-kv"
   },
   "source": [
    "Import math module"
   ]
  },
  {
   "cell_type": "code",
   "execution_count": 7,
   "metadata": {
    "colab": {},
    "colab_type": "code",
    "id": "FcTXVGPF9-kw"
   },
   "outputs": [],
   "source": [
    "import math"
   ]
  },
  {
   "cell_type": "markdown",
   "metadata": {
    "colab_type": "text",
    "id": "gv6ovT7U9-k0"
   },
   "source": [
    "Create an integer and float variable"
   ]
  },
  {
   "cell_type": "code",
   "execution_count": 10,
   "metadata": {
    "colab": {},
    "colab_type": "code",
    "id": "LIkAKlvt9-k1"
   },
   "outputs": [
    {
     "name": "stdout",
     "output_type": "stream",
     "text": [
      "99\n",
      "109.0\n"
     ]
    }
   ],
   "source": [
    "integer = 99\n",
    "floatVersion = float(integer + 5) + 5.0\n",
    "print(integer)\n",
    "print(floatVersion)"
   ]
  },
  {
   "cell_type": "markdown",
   "metadata": {
    "colab_type": "text",
    "id": "bfCT4CYN9-k5"
   },
   "source": [
    "Check if the floats are integers"
   ]
  },
  {
   "cell_type": "code",
   "execution_count": 11,
   "metadata": {
    "colab": {},
    "colab_type": "code",
    "id": "zXCMwOzO9-k6"
   },
   "outputs": [
    {
     "name": "stdout",
     "output_type": "stream",
     "text": [
      "This float is an int!\n",
      "This float is not an int\n"
     ]
    }
   ],
   "source": [
    "if floatVersion.is_integer():\n",
    "    print('This float is an int!')\n",
    "else:\n",
    "    print('This float is not an int')\n",
    "\n",
    "otherVar = 35.3521\n",
    "\n",
    "if otherVar.is_integer():\n",
    "    print('This float is an int!')\n",
    "else:\n",
    "    print('This float is not an int')"
   ]
  },
  {
   "cell_type": "markdown",
   "metadata": {
    "colab_type": "text",
    "id": "-MWd6BIO9-k-"
   },
   "source": [
    "Convert floats to ints in 4 different methods"
   ]
  },
  {
   "cell_type": "code",
   "execution_count": 12,
   "metadata": {
    "colab": {},
    "colab_type": "code",
    "id": "7Y4E55Sy9-k_"
   },
   "outputs": [
    {
     "name": "stdout",
     "output_type": "stream",
     "text": [
      "657\n",
      "658\n",
      "125\n",
      "124\n"
     ]
    }
   ],
   "source": [
    "print(int(657.99999))\n",
    "print(round(657.9999))\n",
    "\n",
    "print(math.ceil(124.5))\n",
    "print(math.floor(124.5))"
   ]
  },
  {
   "cell_type": "markdown",
   "metadata": {
    "colab_type": "text",
    "id": "L6ubZrZY9-lC"
   },
   "source": [
    "Next is some code on strings"
   ]
  },
  {
   "cell_type": "markdown",
   "metadata": {
    "colab_type": "text",
    "id": "KfY89v3F9-lC"
   },
   "source": [
    "Substrings/Slicing strings"
   ]
  },
  {
   "cell_type": "code",
   "execution_count": 18,
   "metadata": {
    "colab": {},
    "colab_type": "code",
    "id": "pq43lFy-9-lD"
   },
   "outputs": [
    {
     "name": "stdout",
     "output_type": "stream",
     "text": [
      "Hello World\n",
      "\n",
      "Rafael's Thing\n",
      "\n",
      "Here\n",
      "\n",
      "ll\n",
      "HloWrd\n",
      "dlroW olleH\n"
     ]
    }
   ],
   "source": [
    "string = 'Hello World'\n",
    "print(string)\n",
    "multi = '''\n",
    "Rafael's Thing\n",
    "\n",
    "Here\n",
    "'''\n",
    "print(multi)\n",
    "# printing from the second to fourth character excluding the fourth character\n",
    "print(string[2:4])\n",
    "# printing every other character\n",
    "print(string[::2])\n",
    "# reviersing the string\n",
    "print(string[::-1])"
   ]
  },
  {
   "cell_type": "markdown",
   "metadata": {
    "colab_type": "text",
    "id": "5Ss-GQyw9-lG"
   },
   "source": [
    "converting items to strings"
   ]
  },
  {
   "cell_type": "code",
   "execution_count": 28,
   "metadata": {
    "colab": {},
    "colab_type": "code",
    "id": "5-6uI5O49-lG"
   },
   "outputs": [
    {
     "name": "stdout",
     "output_type": "stream",
     "text": [
      "<class 'str'>\n",
      "5453364\n",
      "987.87\n",
      "sjhfkjsdhjkhd 5 adasds\n",
      "Here is the first number 5, here is the second number 129.389, here is the sum 134.389\n"
     ]
    }
   ],
   "source": [
    "print(type(str(5453364)))\n",
    "print(str(5453364))\n",
    "print(str(987.87))\n",
    "\n",
    "# F-strings new to python 3.6 and above\n",
    "# This allows you to input variables of any type and do simple operations like math\n",
    "print('sjhfkjsdhjkhd {} adasds'.format(5))\n",
    "number = 5\n",
    "other = 129.389\n",
    "print(f'Here is the first number {number}, here is the second number {other}, here is the sum {number + other}')"
   ]
  },
  {
   "cell_type": "code",
   "execution_count": 30,
   "metadata": {},
   "outputs": [
    {
     "name": "stdout",
     "output_type": "stream",
     "text": [
      "sjhfkjsdhjkhd 5 adasds 129.389 , 5\n"
     ]
    }
   ],
   "source": [
    "print('sjhfkjsdhjkhd {number} adasds {num2} , {number}'.format(number=number, num2=other))"
   ]
  },
  {
   "cell_type": "code",
   "execution_count": 29,
   "metadata": {},
   "outputs": [
    {
     "name": "stdout",
     "output_type": "stream",
     "text": [
      "Here is the first number 5, here is the second number 129.389, here is the sum 134.389\n"
     ]
    }
   ],
   "source": [
    "print(f'Here is the first number {number}, here is the second number {other}, here is the sum {number + other}')"
   ]
  },
  {
   "cell_type": "markdown",
   "metadata": {
    "colab_type": "text",
    "id": "zm2eiWm4-sqa"
   },
   "source": [
    "### Functions aka Methods\n",
    "Making and calling them\n"
   ]
  },
  {
   "cell_type": "code",
   "execution_count": 4,
   "metadata": {
    "colab": {},
    "colab_type": "code",
    "id": "hPbFj-99-Ukk"
   },
   "outputs": [
    {
     "name": "stdout",
     "output_type": "stream",
     "text": [
      "1024\n"
     ]
    }
   ],
   "source": [
    "# This is a function\n",
    "# A function allows us to repeat a bunch of code when we call\" it\n",
    "# We pass in given information such as the base and power\n",
    "def exponent(base, power):\n",
    "\n",
    "    # another cool trick that python has is ** which is the operation to do exponents\n",
    "    ex = base ** power\n",
    "\n",
    "    # every function has a return statement,\n",
    "    # sometimes you don't need to type out return\n",
    "    # because you're not returning anything\n",
    "    return ex\n",
    "\n",
    "# this is where we \"call\" a function to run a piece of code\n",
    "# whenever we need to use it\n",
    "answer = exponent(2, 10)\n",
    "\n",
    "# Notice that print is also a function that when given a variable \n",
    "# it will display on screen what's inside it.\n",
    "print(answer)"
   ]
  },
  {
   "cell_type": "markdown",
   "metadata": {},
   "source": [
    "Use cases for functions\n"
   ]
  },
  {
   "cell_type": "code",
   "execution_count": 5,
   "metadata": {},
   "outputs": [
    {
     "name": "stdout",
     "output_type": "stream",
     "text": [
      "3299.3352450469242\n"
     ]
    }
   ],
   "source": [
    "# Functions are used to run a piece of code over and over again\n",
    "# An example for DESI is that you want to figure out the wavelengths\n",
    "# of light emitted by a Hydrogen atom for different high and low \n",
    "# energy levels, n and m respectively. \n",
    "def Rydberg(n, m):\n",
    "    \n",
    "    # Vacuum wavelengths [nanometres]\n",
    "    # This is just how to express the formula in terms of \n",
    "    # python code\n",
    "    result = 1.096e-2 * (1. / n / n - 1. / m / m)\n",
    "    \n",
    "    # Here you can see that we are feeding the result back\n",
    "    # to where it was called\n",
    "    return 1. / result\n",
    "\n",
    "# Call the function\n",
    "wavelength = Rydberg(5, 9) # the function will \"return\" the result into the variable wavelength\n",
    "print(wavelength)"
   ]
  },
  {
   "cell_type": "code",
   "execution_count": 14,
   "metadata": {},
   "outputs": [],
   "source": [
    "# Now lets try to make the square root function\n",
    "# TIP: raising a number to the 1/2 power is \n",
    "# equivalent to a square root\n",
    "def square_root(num):\n",
    "    \n",
    "    # Write your code here\n",
    "    \n",
    "    \n",
    "    # make sure to return the correct variable\n",
    "    return result\n",
    "\n",
    "# call the function here and print the result\n"
   ]
  },
  {
   "cell_type": "markdown",
   "metadata": {
    "colab": {},
    "colab_type": "code",
    "id": "3APOQAV1HB0I"
   },
   "source": [
    "### For Loops!\n",
    "How to run code over and over again for a certain amount of time"
   ]
  },
  {
   "cell_type": "code",
   "execution_count": 15,
   "metadata": {},
   "outputs": [
    {
     "name": "stdout",
     "output_type": "stream",
     "text": [
      "3\n",
      "1\n",
      "4\n",
      "1\n",
      "5\n",
      "9\n",
      "2\n",
      "6\n"
     ]
    }
   ],
   "source": [
    "# Refresher a list is a type of variable that can \n",
    "# contain multiple values of a variable type\n",
    "# For example a list of integers\n",
    "pythonList = [3, 1, 4, 1, 5, 9, 2, 6]\n",
    "\n",
    "# With loops we can iterate (go through) over the items in the list\n",
    "for item in pythonList:\n",
    "    print(item)"
   ]
  },
  {
   "cell_type": "code",
   "execution_count": 19,
   "metadata": {},
   "outputs": [
    {
     "name": "stdout",
     "output_type": "stream",
     "text": [
      "1 4\n",
      "1 5\n",
      "1 6\n",
      "2 4\n",
      "2 5\n",
      "2 6\n",
      "3 4\n",
      "3 5\n",
      "3 6\n",
      "Below is the list\n",
      "[5, 6, 7, 6, 7, 8, 7, 8, 9]\n"
     ]
    }
   ],
   "source": [
    "# Another important property of lists is that we can add to them\n",
    "# watch how we do it in the loops\n",
    "combine_num = []\n",
    "\n",
    "# Some other ways to write for loops\n",
    "for i in [1, 2, 3]: # see how we can put the list where the variable used to be\n",
    "    for j in [4, 5, 6]: # see how we can put loops inside loops\n",
    "        \n",
    "        # pay close attention to how the loop \n",
    "        # iterates with a loop inside it\n",
    "        print(i, j)\n",
    "        \n",
    "        # here we will combine the numbers by adding them together\n",
    "        # then we are going to add them to the list\n",
    "        combine_num.append(i + j)\n",
    "\n",
    "# let's take a look at our combine_num list\n",
    "print(\"Below is the list\")\n",
    "print(combine_num)"
   ]
  },
  {
   "cell_type": "code",
   "execution_count": 24,
   "metadata": {},
   "outputs": [
    {
     "name": "stdout",
     "output_type": "stream",
     "text": [
      "0\n"
     ]
    }
   ],
   "source": [
    "# Now lets try to make a loop that multiplies odd numbers from 1 - 11\n",
    "\n",
    "# Make a list with all of the odd numbers from 1 - 11\n",
    "# Replace \"None\" with the list\n",
    "odd_num = None\n",
    "\n",
    "# variable to hold the result\n",
    "result = 0\n",
    "\n",
    "# replace the empty list \"[]\" with the correct list variable\n",
    "for num in []:\n",
    "    \n",
    "    # replace \"0\" to multiply the number to the result\n",
    "    result = 0\n",
    "    \n",
    "print(result)"
   ]
  },
  {
   "cell_type": "markdown",
   "metadata": {},
   "source": [
    "### Python libraries\n",
    "Libraries contain prewritten code by professional programmers to help us. The main ones that we will be working with are numpy, matplotlib, and pandas"
   ]
  },
  {
   "cell_type": "code",
   "execution_count": 78,
   "metadata": {},
   "outputs": [],
   "source": [
    "# Important to import numpy so that we have access to it\n",
    "import numpy as np # \"np\" will contain all of the code written by other programmers\n",
    "\n",
    "# arange() is a numpy function that gives us an numpy array (similar to a list) of numbers\n",
    "# the 10 is to specify the range of numbers\n",
    "array = np.arange(10)\n",
    "\n",
    "for number in array:\n",
    "    print(nu)\n"
   ]
  }
 ],
 "metadata": {
  "colab": {
   "name": "PythonBasics.ipynb",
   "provenance": []
  },
  "kernelspec": {
   "display_name": "Python 3",
   "language": "python",
   "name": "python3"
  },
  "language_info": {
   "codemirror_mode": {
    "name": "ipython",
    "version": 3
   },
   "file_extension": ".py",
   "mimetype": "text/x-python",
   "name": "python",
   "nbconvert_exporter": "python",
   "pygments_lexer": "ipython3",
   "version": "3.6.8"
  }
 },
 "nbformat": 4,
 "nbformat_minor": 1
}
