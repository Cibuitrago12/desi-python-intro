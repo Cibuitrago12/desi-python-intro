{
 "cells": [
  {
   "cell_type": "markdown",
   "metadata": {
    "colab_type": "text",
    "id": "HUbeBkUc9-kM"
   },
   "source": [
    "## DESI Python Intro!\n",
    "\n",
    "This short notebook will show you some of the basics of python and prepare you to analyze DESI data."
   ]
  },
  {
   "cell_type": "markdown",
   "metadata": {
    "colab_type": "text",
    "id": "IKa1t2AB9-kO"
   },
   "source": [
    "### Variables\n",
    "Creating a variable that holds data such as the number 5"
   ]
  },
  {
   "cell_type": "code",
   "execution_count": null,
   "metadata": {
    "colab": {},
    "colab_type": "code",
    "id": "mJorPGzP9-kQ"
   },
   "outputs": [],
   "source": [
    "# make a new variable, the computer will \n",
    "# store information into this variable \n",
    "# called \"variable\"\n",
    "variable = 5\n",
    "\n",
    "# if we type \"print()\" with the variable name between \n",
    "# the '()' then the computer shows what's inside the variable\n",
    "# this will be a useful function to figure out what is what\n",
    "print(variable) "
   ]
  },
  {
   "cell_type": "markdown",
   "metadata": {
    "colab_type": "text",
    "id": "B7K4i8YP9-kX"
   },
   "source": [
    "Checking the type of the variable, this will show that the variable is an integer"
   ]
  },
  {
   "cell_type": "code",
   "execution_count": null,
   "metadata": {
    "colab": {},
    "colab_type": "code",
    "id": "jf4D7aUT9-kY"
   },
   "outputs": [],
   "source": [
    "# several types in python\n",
    "# integer means number, specifically whole numbers\n",
    "print(type(variable))"
   ]
  },
  {
   "cell_type": "markdown",
   "metadata": {
    "colab_type": "text",
    "id": "50HWD_nd9-ke"
   },
   "source": [
    "Next we will check some other data types that are commonly used in python"
   ]
  },
  {
   "cell_type": "code",
   "execution_count": null,
   "metadata": {
    "colab": {},
    "colab_type": "code",
    "id": "KAAK9gjW9-ki"
   },
   "outputs": [],
   "source": [
    "integer = 7\n",
    "floatingPoint = 2.5\n",
    "string = 'hello world'\n",
    "boolean = True\n",
    "lists = [3,1,4,1,5,9,2,6]\n",
    "dictionary = {\n",
    "    'key':'value'\n",
    "}"
   ]
  },
  {
   "cell_type": "code",
   "execution_count": null,
   "metadata": {
    "colab": {},
    "colab_type": "code",
    "id": "_f-2vm_O9-kp"
   },
   "outputs": [],
   "source": [
    "print(type(integer))\n",
    "print(type(floatingPoint))\n",
    "print(type(string))\n",
    "print(type(boolean))\n",
    "print(type(lists))\n",
    "print(type(dictionary))"
   ]
  },
  {
   "cell_type": "markdown",
   "metadata": {
    "colab_type": "text",
    "id": "sPaFfqZh9-ks"
   },
   "source": [
    "Integers are all numbers that are not decimals excluding imaginary or complex and Floats are all numbers excluding imaginary or complex. All integers can be floats but not all floats can be integers unless they are rounded."
   ]
  },
  {
   "cell_type": "markdown",
   "metadata": {
    "colab_type": "text",
    "id": "7QbMuSyF9-ku"
   },
   "source": [
    "Here is code showing how integers and floats can be used and changed to the opposite:"
   ]
  },
  {
   "cell_type": "markdown",
   "metadata": {
    "colab_type": "text",
    "id": "32lP90Pj9-kv"
   },
   "source": [
    "Import math module"
   ]
  },
  {
   "cell_type": "code",
   "execution_count": null,
   "metadata": {
    "colab": {},
    "colab_type": "code",
    "id": "FcTXVGPF9-kw"
   },
   "outputs": [],
   "source": [
    "import math"
   ]
  },
  {
   "cell_type": "markdown",
   "metadata": {
    "colab_type": "text",
    "id": "gv6ovT7U9-k0"
   },
   "source": [
    "Create an integer and float variable"
   ]
  },
  {
   "cell_type": "code",
   "execution_count": null,
   "metadata": {
    "colab": {},
    "colab_type": "code",
    "id": "LIkAKlvt9-k1"
   },
   "outputs": [],
   "source": [
    "integer = 99\n",
    "floatVersion = float(integer + 5) + 5.0\n",
    "print(integer)\n",
    "print(floatVersion)"
   ]
  },
  {
   "cell_type": "markdown",
   "metadata": {
    "colab_type": "text",
    "id": "bfCT4CYN9-k5"
   },
   "source": [
    "Check if the floats are integers"
   ]
  },
  {
   "cell_type": "code",
   "execution_count": null,
   "metadata": {
    "colab": {},
    "colab_type": "code",
    "id": "zXCMwOzO9-k6"
   },
   "outputs": [],
   "source": [
    "if floatVersion.is_integer():\n",
    "    print('This float is an int!')\n",
    "else:\n",
    "    print('This float is not an int')\n",
    "\n",
    "otherVar = 35.3521\n",
    "\n",
    "if otherVar.is_integer():\n",
    "    print('This float is an int!')\n",
    "else:\n",
    "    print('This float is not an int')"
   ]
  },
  {
   "cell_type": "markdown",
   "metadata": {
    "colab_type": "text",
    "id": "-MWd6BIO9-k-"
   },
   "source": [
    "Convert floats to ints in 4 different methods"
   ]
  },
  {
   "cell_type": "code",
   "execution_count": null,
   "metadata": {
    "colab": {},
    "colab_type": "code",
    "id": "7Y4E55Sy9-k_"
   },
   "outputs": [],
   "source": [
    "print(int(657.99999))\n",
    "print(round(657.9999))\n",
    "\n",
    "print(math.ceil(124.5))\n",
    "print(math.floor(124.5))"
   ]
  },
  {
   "cell_type": "markdown",
   "metadata": {
    "colab_type": "text",
    "id": "zm2eiWm4-sqa"
   },
   "source": [
    "### Functions aka Methods\n",
    "Making and calling them\n"
   ]
  },
  {
   "cell_type": "code",
   "execution_count": null,
   "metadata": {
    "colab": {},
    "colab_type": "code",
    "id": "hPbFj-99-Ukk"
   },
   "outputs": [],
   "source": [
    "# This is a function\n",
    "# A function allows us to repeat a bunch of code when we call\" it\n",
    "# We pass in given information such as the base and power\n",
    "def exponent(base, power):\n",
    "\n",
    "    # another cool trick that python has is ** which is the operation to do exponents\n",
    "    ex = base ** power\n",
    "\n",
    "    # every function has a return statement,\n",
    "    # sometimes you don't need to type out return\n",
    "    # because you're not returning anything\n",
    "    return ex\n",
    "\n",
    "# this is where we \"call\" a function to run a piece of code\n",
    "# whenever we need to use it\n",
    "answer = exponent(2, 10)\n",
    "\n",
    "# Notice that print is also a function that when given a variable \n",
    "# it will display on screen what's inside it.\n",
    "print(answer)"
   ]
  },
  {
   "cell_type": "markdown",
   "metadata": {},
   "source": [
    "Use cases for functions\n"
   ]
  },
  {
   "cell_type": "code",
   "execution_count": null,
   "metadata": {},
   "outputs": [],
   "source": [
    "# Functions are used to run a piece of code over and over again\n",
    "# An example for DESI is that you want to figure out the wavelengths\n",
    "# of light emitted by a Hydrogen atom for different high and low \n",
    "# energy levels, n and m respectively. \n",
    "def Rydberg(n, m):\n",
    "    \n",
    "    # Vacuum wavelengths [nanometres]\n",
    "    # This is just how to express the formula in terms of \n",
    "    # python code\n",
    "    result = 1.096e-2 * (1. / n / n - 1. / m / m)\n",
    "    \n",
    "    # Here you can see that we are feeding the result back\n",
    "    # to where it was called\n",
    "    return 1. / result\n",
    "\n",
    "# Call the function\n",
    "wavelength = Rydberg(5, 9) # the function will \"return\" the result into the variable wavelength\n",
    "print(wavelength)"
   ]
  },
  {
   "cell_type": "code",
   "execution_count": null,
   "metadata": {},
   "outputs": [],
   "source": [
    "# Now lets try to make the square root function\n",
    "# TIP: raising a number to the 1/2 power is \n",
    "# equivalent to a square root\n",
    "def square_root(num):\n",
    "    \n",
    "    # Write your code here\n",
    "    \n",
    "    \n",
    "    # make sure to return the correct variable\n",
    "    return result\n",
    "\n",
    "# call the function here and print the result\n"
   ]
  },
  {
   "cell_type": "markdown",
   "metadata": {},
   "source": [
    "### Conditions\n",
    "Conditions are essentially ways to check if something is true or false. This is useful when you want to run code for different cases. Below we have a simple example involving odd and even numbers."
   ]
  },
  {
   "cell_type": "code",
   "execution_count": null,
   "metadata": {},
   "outputs": [],
   "source": [
    "# Here we have variable x, you can set it to whatever number you would like\n",
    "x = 0\n",
    "\n",
    "# Simple if else code to check if a number is even or odd\n",
    "if x % 2 == 0:\n",
    "    print('This number is even')\n",
    "else:\n",
    "    print('This number is odd')"
   ]
  },
  {
   "cell_type": "markdown",
   "metadata": {
    "colab": {},
    "colab_type": "code",
    "id": "3APOQAV1HB0I"
   },
   "source": [
    "### For Loops!\n",
    "How to run code over and over again for a certain amount of time"
   ]
  },
  {
   "cell_type": "code",
   "execution_count": null,
   "metadata": {},
   "outputs": [],
   "source": [
    "# Refresher a list is a type of variable that can \n",
    "# contain multiple values of a variable type\n",
    "# For example a list of integers\n",
    "pythonList = [3, 1, 4, 1, 5, 9, 2, 6]\n",
    "\n",
    "# With loops we can iterate (go through) over the items in the list\n",
    "for item in pythonList:\n",
    "    print(item)"
   ]
  },
  {
   "cell_type": "code",
   "execution_count": null,
   "metadata": {},
   "outputs": [],
   "source": [
    "# Another important property of lists is that we can add to them\n",
    "# watch how we do it in the loops\n",
    "combine_num = []\n",
    "\n",
    "# Some other ways to write for loops\n",
    "for i in [1, 2, 3]: # see how we can put the list where the variable used to be\n",
    "    for j in [4, 5, 6]: # see how we can put loops inside loops\n",
    "        \n",
    "        # pay close attention to how the loop \n",
    "        # iterates with a loop inside it\n",
    "        print(i, j)\n",
    "        \n",
    "        # here we will combine the numbers by adding them together\n",
    "        # then we are going to add them to the list\n",
    "        combine_num.append(i + j)\n",
    "\n",
    "# let's take a look at our combine_num list\n",
    "print(\"Below is the list\")\n",
    "print(combine_num)"
   ]
  },
  {
   "cell_type": "code",
   "execution_count": null,
   "metadata": {},
   "outputs": [],
   "source": [
    "# Now lets try to make a loop that multiplies odd numbers from 1 - 11\n",
    "\n",
    "# Make a list with all of the odd numbers from 1 - 11\n",
    "# Replace \"None\" with the list\n",
    "oddNum = []\n",
    "\n",
    "# variable to hold the result\n",
    "result = 0\n",
    "\n",
    "# fill in the empty list oddNum\n",
    "for num in oddNum:\n",
    "    \n",
    "    # replace \"0\" to multiply the number to the result\n",
    "    result = 0\n",
    "    \n",
    "print(result)"
   ]
  },
  {
   "cell_type": "markdown",
   "metadata": {},
   "source": [
    "### Python libraries\n",
    "Libraries contain prewritten code by professional programmers to help us. The main ones that we will be working with are numpy, matplotlib, and pandas"
   ]
  },
  {
   "cell_type": "code",
   "execution_count": null,
   "metadata": {},
   "outputs": [],
   "source": [
    "# Important to import numpy so that we have access to it\n",
    "import numpy as np # \"np\" will contain all of the code written by other programmers\n",
    "\n",
    "# arange() is a numpy function that gives us an numpy array (similar to a list) of numbers\n",
    "# the 1 is to specify when the range starts and the 10 is where it ends\n",
    "array = np.arange(1, 10, 1) # the last 1 is to specify how much to increment by\n",
    "\n",
    "# notice we can use a for loop to loop through the numbers\n",
    "for num in array:\n",
    "    \n",
    "    # notice which numbers get printed\n",
    "    # be careful about it\n",
    "    print(num)\n",
    "\n",
    "# also notice the type of array is special array designed by numpy\n",
    "print(\"This is the array type\")\n",
    "print(type(array))"
   ]
  },
  {
   "cell_type": "code",
   "execution_count": null,
   "metadata": {},
   "outputs": [],
   "source": [
    "# There are many other numpy functions such as numpy.sum()\n",
    "# We can use it like so:\n",
    "# Remember that array is the list of numbers from 1 - 9\n",
    "total = np.sum(array)\n",
    "print(total)"
   ]
  },
  {
   "cell_type": "code",
   "execution_count": null,
   "metadata": {},
   "outputs": [],
   "source": [
    "# Here's a dictionary of some of the numpy functions\n",
    "# that you will likely use while programming with DESI data\n",
    "\n",
    "# np.arange( _start, _end, _increment_by ) - remember that _end means upto and not including _end\n",
    "# np.array( _python_list ) - put a python list and it will turn the list into an numpy array type variable\n",
    "# np.zeros( _demensions ) - where you specify _demensions like so (2, 1) which is a 2 row by 1 column array\n",
    "# np.ones( _demensions ) -  _demensions work the same as the zeros() function\n",
    "# np.sum( _numpyarray ) - pass in an numpy array to get the sum\n",
    "# np.sqrt( _number ) - returns the square root of the number\n",
    "# np.exp( _number ) - returns e^(_number) aka e to the power of the _number\n",
    "\n",
    "# NOTE: you can also performs some math operations with numpy arrays\n",
    "array1 = np.arange(1, 10, 2)\n",
    "array2 = np.arange(10, 20, 2)\n",
    "\n",
    "multi = array1 * array2\n",
    "print(multi)\n",
    "\n",
    "divide = array2 / array1\n",
    "print(divide)"
   ]
  },
  {
   "cell_type": "code",
   "execution_count": null,
   "metadata": {},
   "outputs": [],
   "source": [
    "# Now lets try to find the square root of the sum of all even numbers between 1 and 11 \n",
    "# Here's a start\n",
    "even_num = np.arange(2, 11, 2) # starts from two and get's the even numbers upto and not including 11\n",
    "\n",
    "print(even_num)"
   ]
  },
  {
   "cell_type": "code",
   "execution_count": null,
   "metadata": {},
   "outputs": [],
   "source": [
    "# Import the matplotlib library so that we can get access to its functions\n",
    "# We will shorten matplotlub to plt when importing\n",
    "# This library will be extremely useful for visualizing DESI data and computation\n",
    "%matplotlib inline\n",
    "from matplotlib import pyplot as plt\n",
    "\n",
    "# Let's create the plt figure, imagine this is our graphing piece of paper\n",
    "fig = plt.figure()\n",
    "# Now let's add a subplot, imagine that we are drawing our graph\n",
    "# There can be multiple subplots just like how we can draw multiple \n",
    "# graphs on a piece of paper\n",
    "graph = fig.add_subplot(1, 1, 1) # always keep these numbers to (1, 1, 1) for now\n",
    "\n",
    "# Close the plot for now\n",
    "# This line of code isn't super important\n",
    "plt.close()\n",
    "\n",
    "# choose the font for the graph\n",
    "style = {'fontname': 'Georgia', 'fontsize': 16}\n",
    "\n",
    "\n",
    "# Let's create some data for the graph to plot\n",
    "# Both of these lists must have the same amount of numbers in them\n",
    "X_dist = [1, 2, 3, 4, 5, 6, 7 , 8, 9, 10 , 20] # these are the x coordinates for our points\n",
    "Y_speed = [10, 20, 22, 40, 55, 100, 73, 33, 150, 99, 121] # these are the y coordinates for our points\n",
    "\n",
    "# Now let's start plotting the graph with the points\n",
    "\n",
    "# ls stands for line style, not that important\n",
    "# c stands for color, k is default (black) try some other letters like 'b'\n",
    "# market stands for the shape we plot our points\n",
    "# lw stands for line width and how thick do we want it to be\n",
    "\n",
    "# plug in x and y coordinates for points\n",
    "graph.plot(X_dist, Y_speed, ls='-', c='b', marker='*', lw=0)\n",
    "\n",
    "# describe the x and y axes\n",
    "graph.set_xlabel('distance', **style)\n",
    "graph.set_ylabel('speed (m/s)', **style)\n",
    "\n",
    "# fits all data points into a reasonable graph size\n",
    "plt.tight_layout()"
   ]
  },
  {
   "cell_type": "code",
   "execution_count": null,
   "metadata": {},
   "outputs": [],
   "source": [
    "# show the figure graphs\n",
    "fig"
   ]
  },
  {
   "cell_type": "code",
   "execution_count": null,
   "metadata": {},
   "outputs": [],
   "source": [
    "# Relation of matplotlib to DESI data\n",
    "# We might need to plot the wavelengths of hydrogen atoms \n",
    "# and visualize the color and redshift\n",
    "# This might help us further in analyzing the distance of galaxies\n",
    "\n",
    "# Create a figure\n",
    "fig = plt.figure()\n",
    "# Start outlining our graph\n",
    "graph = fig.add_subplot(1, 1, 1)\n",
    "\n",
    "# Don't worry about this line\n",
    "plt.close()\n",
    "\n",
    "# Adds a vertical line to the graph at the x coordinate 10 and set the color to (1, 0, 0, 1) which is red\n",
    "graph.axvline(x=10, color=(1, 0, 0, 1))\n",
    "\n",
    "# Try making several more axvlines yourself\n",
    "# Note that x represents the x coordinate for the vertical line\n",
    "# and color is the (r, g, b, a) keep all values below one\n",
    "# Add your veritical lines here:\n",
    "\n",
    "\n",
    "\n",
    "# set more labels\n",
    "graph.set_xlabel('xcoord', **style)"
   ]
  },
  {
   "cell_type": "code",
   "execution_count": null,
   "metadata": {},
   "outputs": [],
   "source": [
    "# Show the figure here\n",
    "fig"
   ]
  },
  {
   "cell_type": "code",
   "execution_count": null,
   "metadata": {},
   "outputs": [],
   "source": [
    "# The last library we will work with is called pandas\n",
    "# Pandas allows us to reteive large amounts of data from files\n",
    "# The DESI dataset has lots of useful information and we'll access it\n",
    "# If you visit this link:\n",
    "# https://github.com/michaelJwilson/DESI-HighSchool/tree/master/dat\n",
    "# You will find many data sets and the one we will use is \"hubble.dat\"\n",
    "# Click on \"hubble.dat\" and you'll find the data there\n",
    "import pandas as pd\n",
    "\n",
    "# This is the url of the data on github that we'll use to get the data\n",
    "# Try copying the link and going to your browser to see how the data looks\n",
    "url = \"https://raw.githubusercontent.com/michaelJwilson/DESI-HighSchool/master/dat/hubble.dat\"\n",
    "\n",
    "# This is accessing the link with the data\n",
    "# Compare how pandas formats the data with the actual data\n",
    "data = pd.read_csv(url , sep='\\s+', comment='#', names=['Galaxy name', 'Distance [Mpc]', 'Velocity [km/s]'])\n",
    "data"
   ]
  },
  {
   "cell_type": "code",
   "execution_count": null,
   "metadata": {},
   "outputs": [],
   "source": [
    "# What can we do with this data?\n",
    "# Well we can plot it. Matplotlib is finally useful\n",
    "\n",
    "# We can copy our older code \n",
    "# Create a figure\n",
    "fig = plt.figure()\n",
    "# Start outlining our graph\n",
    "graph = fig.add_subplot(1, 1, 1)\n",
    "\n",
    "# Don't worry about this line\n",
    "plt.close()\n",
    "\n",
    "# Going back to the previous code we will access the data and get the \n",
    "# all x coordinates by accessing the \"Distance [Mpc]\" column. Look at \n",
    "# the data to figure out what I'm referring to\n",
    "X = data['Distance [Mpc]']\n",
    "# We'll do the same for the way coordiates\n",
    "y = data['Velocity [km/s]']\n",
    "\n",
    "# Now let's copy more of our older code\n",
    "# plug in x and y coordinates for points\n",
    "graph.plot(X, y, ls='-', c='y', marker='*', lw=0)\n",
    "\n",
    "# describe the x and y axes\n",
    "graph.set_xlabel('Distance [Mpc]', **style)\n",
    "graph.set_ylabel('Velocity [km/s]', **style)"
   ]
  },
  {
   "cell_type": "code",
   "execution_count": null,
   "metadata": {},
   "outputs": [],
   "source": [
    "# Print the figure to see the distance of galaxies and their speed\n",
    "# Notice a slight positive correlation, the further they are the \n",
    "# faster they tend to be traveling \n",
    "fig"
   ]
  },
  {
   "cell_type": "markdown",
   "metadata": {},
   "source": [
    "### If you ever need help with python check us out at https://www.lowelldev.club\n",
    "Join our Slack or Discord servers for updates on how to contact us!"
   ]
  },
  {
   "cell_type": "markdown",
   "metadata": {},
   "source": [
    "## Thanks for coming!"
   ]
  }
 ],
 "metadata": {
  "colab": {
   "name": "PythonBasics.ipynb",
   "provenance": []
  },
  "kernelspec": {
   "display_name": "Python 3",
   "language": "python",
   "name": "python3"
  },
  "language_info": {
   "codemirror_mode": {
    "name": "ipython",
    "version": 3
   },
   "file_extension": ".py",
   "mimetype": "text/x-python",
   "name": "python",
   "nbconvert_exporter": "python",
   "pygments_lexer": "ipython3",
   "version": "3.6.8"
  }
 },
 "nbformat": 4,
 "nbformat_minor": 1
}
