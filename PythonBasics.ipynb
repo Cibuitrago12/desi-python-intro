{
 "cells": [
  {
   "cell_type": "markdown",
   "metadata": {
    "colab_type": "text",
    "id": "HUbeBkUc9-kM"
   },
   "source": [
    "DESI Python Intro!\n",
    "\n",
    "This short notebook will show you some of the basics of python and prepare you to analyze DESI data."
   ]
  },
  {
   "cell_type": "markdown",
   "metadata": {
    "colab_type": "text",
    "id": "IKa1t2AB9-kO"
   },
   "source": [
    "### Variables\n",
    "Creating a variable that holds data such as the number 5"
   ]
  },
  {
   "cell_type": "code",
   "execution_count": 6,
   "metadata": {
    "colab": {},
    "colab_type": "code",
    "id": "mJorPGzP9-kQ"
   },
   "outputs": [
    {
     "name": "stdout",
     "output_type": "stream",
     "text": [
      "5\n"
     ]
    }
   ],
   "source": [
    "# make a new variable, the computer will \n",
    "# store information into this variable \n",
    "# called \"variable\"\n",
    "variable = 5\n",
    "\n",
    "# if we type \"print()\" with the variable name between \n",
    "# the '()' then the computer shows what's inside the variable\n",
    "# this will be a useful function to figure out what is what\n",
    "print(variable) "
   ]
  },
  {
   "cell_type": "markdown",
   "metadata": {
    "colab_type": "text",
    "id": "B7K4i8YP9-kX"
   },
   "source": [
    "Checking the type of the variable, this will show that the variable is an integer"
   ]
  },
  {
   "cell_type": "code",
   "execution_count": 3,
   "metadata": {
    "colab": {},
    "colab_type": "code",
    "id": "jf4D7aUT9-kY"
   },
   "outputs": [
    {
     "name": "stdout",
     "output_type": "stream",
     "text": [
      "<class 'int'>\n"
     ]
    }
   ],
   "source": [
    "# several types in python\n",
    "# integer means number, specifically whole numbers\n",
    "print(type(variable))"
   ]
  },
  {
   "cell_type": "markdown",
   "metadata": {
    "colab_type": "text",
    "id": "50HWD_nd9-ke"
   },
   "source": [
    "Next we will check some other data types that are commonly used in python"
   ]
  },
  {
   "cell_type": "code",
   "execution_count": 4,
   "metadata": {
    "colab": {},
    "colab_type": "code",
    "id": "KAAK9gjW9-ki"
   },
   "outputs": [],
   "source": [
    "integer = 7\n",
    "floatingPoint = 2.5\n",
    "string = 'hello world'\n",
    "boolean = True\n",
    "lists = [3,1,4,1,5,9,2,6]\n",
    "dictionary = {\n",
    "    'key':'value'\n",
    "}"
   ]
  },
  {
   "cell_type": "code",
   "execution_count": 5,
   "metadata": {
    "colab": {},
    "colab_type": "code",
    "id": "_f-2vm_O9-kp"
   },
   "outputs": [
    {
     "name": "stdout",
     "output_type": "stream",
     "text": [
      "<class 'int'>\n",
      "<class 'float'>\n",
      "<class 'str'>\n",
      "<class 'bool'>\n",
      "<class 'list'>\n",
      "<class 'dict'>\n"
     ]
    }
   ],
   "source": [
    "print(type(integer))\n",
    "print(type(floatingPoint))\n",
    "print(type(string))\n",
    "print(type(boolean))\n",
    "print(type(lists))\n",
    "print(type(dictionary))"
   ]
  },
  {
   "cell_type": "markdown",
   "metadata": {
    "colab_type": "text",
    "id": "sPaFfqZh9-ks"
   },
   "source": [
    "Integers are all numbers that are not decimals excluding imaginary or complex and Floats are all numbers excluding imaginary or complex. All integers can be floats but not all floats can be integers unless they are rounded."
   ]
  },
  {
   "cell_type": "markdown",
   "metadata": {
    "colab_type": "text",
    "id": "7QbMuSyF9-ku"
   },
   "source": [
    "Here is code showing how integers and floats can be used and changed to the opposite:"
   ]
  },
  {
   "cell_type": "markdown",
   "metadata": {
    "colab_type": "text",
    "id": "32lP90Pj9-kv"
   },
   "source": [
    "Import math module"
   ]
  },
  {
   "cell_type": "code",
   "execution_count": 7,
   "metadata": {
    "colab": {},
    "colab_type": "code",
    "id": "FcTXVGPF9-kw"
   },
   "outputs": [],
   "source": [
    "import math"
   ]
  },
  {
   "cell_type": "markdown",
   "metadata": {
    "colab_type": "text",
    "id": "gv6ovT7U9-k0"
   },
   "source": [
    "Create an integer and float variable"
   ]
  },
  {
   "cell_type": "code",
   "execution_count": 10,
   "metadata": {
    "colab": {},
    "colab_type": "code",
    "id": "LIkAKlvt9-k1"
   },
   "outputs": [
    {
     "name": "stdout",
     "output_type": "stream",
     "text": [
      "99\n",
      "109.0\n"
     ]
    }
   ],
   "source": [
    "integer = 99\n",
    "floatVersion = float(integer + 5) + 5.0\n",
    "print(integer)\n",
    "print(floatVersion)"
   ]
  },
  {
   "cell_type": "markdown",
   "metadata": {
    "colab_type": "text",
    "id": "bfCT4CYN9-k5"
   },
   "source": [
    "Check if the floats are integers"
   ]
  },
  {
   "cell_type": "code",
   "execution_count": 11,
   "metadata": {
    "colab": {},
    "colab_type": "code",
    "id": "zXCMwOzO9-k6"
   },
   "outputs": [
    {
     "name": "stdout",
     "output_type": "stream",
     "text": [
      "This float is an int!\n",
      "This float is not an int\n"
     ]
    }
   ],
   "source": [
    "if floatVersion.is_integer():\n",
    "    print('This float is an int!')\n",
    "else:\n",
    "    print('This float is not an int')\n",
    "\n",
    "otherVar = 35.3521\n",
    "\n",
    "if otherVar.is_integer():\n",
    "    print('This float is an int!')\n",
    "else:\n",
    "    print('This float is not an int')"
   ]
  },
  {
   "cell_type": "markdown",
   "metadata": {
    "colab_type": "text",
    "id": "-MWd6BIO9-k-"
   },
   "source": [
    "Convert floats to ints in 4 different methods"
   ]
  },
  {
   "cell_type": "code",
   "execution_count": 12,
   "metadata": {
    "colab": {},
    "colab_type": "code",
    "id": "7Y4E55Sy9-k_"
   },
   "outputs": [
    {
     "name": "stdout",
     "output_type": "stream",
     "text": [
      "657\n",
      "658\n",
      "125\n",
      "124\n"
     ]
    }
   ],
   "source": [
    "print(int(657.99999))\n",
    "print(round(657.9999))\n",
    "\n",
    "print(math.ceil(124.5))\n",
    "print(math.floor(124.5))"
   ]
  },
  {
   "cell_type": "markdown",
   "metadata": {
    "colab_type": "text",
    "id": "L6ubZrZY9-lC"
   },
   "source": [
    "Next is some code on strings"
   ]
  },
  {
   "cell_type": "markdown",
   "metadata": {
    "colab_type": "text",
    "id": "KfY89v3F9-lC"
   },
   "source": [
    "Substrings/Slicing strings"
   ]
  },
  {
   "cell_type": "code",
   "execution_count": 18,
   "metadata": {
    "colab": {},
    "colab_type": "code",
    "id": "pq43lFy-9-lD"
   },
   "outputs": [
    {
     "name": "stdout",
     "output_type": "stream",
     "text": [
      "Hello World\n",
      "\n",
      "Rafael's Thing\n",
      "\n",
      "Here\n",
      "\n",
      "ll\n",
      "HloWrd\n",
      "dlroW olleH\n"
     ]
    }
   ],
   "source": [
    "string = 'Hello World'\n",
    "print(string)\n",
    "multi = '''\n",
    "Rafael's Thing\n",
    "\n",
    "Here\n",
    "'''\n",
    "print(multi)\n",
    "# printing from the second to fourth character excluding the fourth character\n",
    "print(string[2:4])\n",
    "# printing every other character\n",
    "print(string[::2])\n",
    "# reviersing the string\n",
    "print(string[::-1])"
   ]
  },
  {
   "cell_type": "markdown",
   "metadata": {
    "colab_type": "text",
    "id": "5Ss-GQyw9-lG"
   },
   "source": [
    "converting items to strings"
   ]
  },
  {
   "cell_type": "code",
   "execution_count": 28,
   "metadata": {
    "colab": {},
    "colab_type": "code",
    "id": "5-6uI5O49-lG"
   },
   "outputs": [
    {
     "name": "stdout",
     "output_type": "stream",
     "text": [
      "<class 'str'>\n",
      "5453364\n",
      "987.87\n",
      "sjhfkjsdhjkhd 5 adasds\n",
      "Here is the first number 5, here is the second number 129.389, here is the sum 134.389\n"
     ]
    }
   ],
   "source": [
    "print(type(str(5453364)))\n",
    "print(str(5453364))\n",
    "print(str(987.87))\n",
    "\n",
    "# F-strings new to python 3.6 and above\n",
    "# This allows you to input variables of any type and do simple operations like math\n",
    "print('sjhfkjsdhjkhd {} adasds'.format(5))\n",
    "number = 5\n",
    "other = 129.389\n",
    "print(f'Here is the first number {number}, here is the second number {other}, here is the sum {number + other}')"
   ]
  },
  {
   "cell_type": "code",
   "execution_count": 30,
   "metadata": {},
   "outputs": [
    {
     "name": "stdout",
     "output_type": "stream",
     "text": [
      "sjhfkjsdhjkhd 5 adasds 129.389 , 5\n"
     ]
    }
   ],
   "source": [
    "print('sjhfkjsdhjkhd {number} adasds {num2} , {number}'.format(number=number, num2=other))"
   ]
  },
  {
   "cell_type": "code",
   "execution_count": 29,
   "metadata": {},
   "outputs": [
    {
     "name": "stdout",
     "output_type": "stream",
     "text": [
      "Here is the first number 5, here is the second number 129.389, here is the sum 134.389\n"
     ]
    }
   ],
   "source": [
    "print(f'Here is the first number {number}, here is the second number {other}, here is the sum {number + other}')"
   ]
  },
  {
   "cell_type": "markdown",
   "metadata": {
    "colab_type": "text",
    "id": "zm2eiWm4-sqa"
   },
   "source": [
    "### Functions aka Methods\n",
    "Making and calling them\n"
   ]
  },
  {
   "cell_type": "code",
   "execution_count": 4,
   "metadata": {
    "colab": {},
    "colab_type": "code",
    "id": "hPbFj-99-Ukk"
   },
   "outputs": [
    {
     "name": "stdout",
     "output_type": "stream",
     "text": [
      "1024\n"
     ]
    }
   ],
   "source": [
    "# This is a function\n",
    "# A function allows us to repeat a bunch of code when we call\" it\n",
    "# We pass in given information such as the base and power\n",
    "def exponent(base, power):\n",
    "\n",
    "    # another cool trick that python has is ** which is the operation to do exponents\n",
    "    ex = base ** power\n",
    "\n",
    "    # every function has a return statement,\n",
    "    # sometimes you don't need to type out return\n",
    "    # because you're not returning anything\n",
    "    return ex\n",
    "\n",
    "# this is where we \"call\" a function to run a piece of code\n",
    "# whenever we need to use it\n",
    "answer = exponent(2, 10)\n",
    "\n",
    "# Notice that print is also a function that when given a variable \n",
    "# it will display on screen what's inside it.\n",
    "print(answer)"
   ]
  },
  {
   "cell_type": "markdown",
   "metadata": {},
   "source": [
    "Use cases for functions\n"
   ]
  },
  {
   "cell_type": "code",
   "execution_count": 5,
   "metadata": {},
   "outputs": [
    {
     "name": "stdout",
     "output_type": "stream",
     "text": [
      "3299.3352450469242\n"
     ]
    }
   ],
   "source": [
    "# Functions are used to run a piece of code over and over again\n",
    "# An example in DESI is that you want to figure out the wavelengths\n",
    "# of light emitted by a Hydrogen atom for different high and low \n",
    "# energy levels, n and m respectively. \n",
    "def Rydberg(n, m):\n",
    "    \n",
    "    # Vacuum wavelengths [nanometres]\n",
    "    # This is just how to express the formula in terms of \n",
    "    # python code\n",
    "    result = 1.096e-2 * (1. / n / n - 1. / m / m)\n",
    "    \n",
    "    # Here you can see that we are feeding the result back\n",
    "    # to where it was called\n",
    "    return 1. / result\n",
    "\n",
    "# Call the function\n",
    "wavelength = Rydberg(5, 9) # the function will \"return\" the result into the variable wavelength\n",
    "print(wavelength)"
   ]
  },
  {
   "cell_type": "code",
   "execution_count": 14,
   "metadata": {},
   "outputs": [],
   "source": [
    "# Now lets try to make the square root function\n",
    "# TIP: raising a number to the 1/2 power is \n",
    "# equivalent to a square root\n",
    "def square_root(num):\n",
    "    \n",
    "    # Write your code here\n",
    "    \n",
    "    \n",
    "    # make sure to return the correct variable\n",
    "    return result\n",
    "\n",
    "# call the function here and print the result\n"
   ]
  },
  {
   "cell_type": "markdown",
   "metadata": {
    "colab_type": "text",
    "id": "2I2xseoPCr4s"
   },
   "source": [
    "Making classes (the blueprint for objects)\n"
   ]
  },
  {
   "cell_type": "code",
   "execution_count": 56,
   "metadata": {
    "colab": {},
    "colab_type": "code",
    "id": "ZZx2QU_aFxcD"
   },
   "outputs": [
    {
     "name": "stdout",
     "output_type": "stream",
     "text": [
      "there are apples\n"
     ]
    }
   ],
   "source": [
    "available_food = ['apples', 'oranges', 'hotdogs', 'steak']\n",
    "bigString = 'hello apples there'\n",
    "if 'apples' in bigString:\n",
    "  print('there are apples')"
   ]
  },
  {
   "cell_type": "markdown",
   "metadata": {
    "colab_type": "text",
    "id": "QAkc7hoGG_Vt"
   },
   "source": [
    "Advanced python: Yield"
   ]
  },
  {
   "cell_type": "markdown",
   "metadata": {
    "colab": {},
    "colab_type": "code",
    "id": "3APOQAV1HB0I"
   },
   "source": [
    "### Loops!\n",
    "How to run code over and over again for a certain amount of time"
   ]
  },
  {
   "cell_type": "code",
   "execution_count": 60,
   "metadata": {},
   "outputs": [
    {
     "name": "stdout",
     "output_type": "stream",
     "text": [
      "3\n",
      "1\n",
      "4\n",
      "1\n",
      "5\n",
      "9\n",
      "2\n",
      "6\n",
      "******\n",
      "3\n",
      "1\n",
      "4\n",
      "1\n",
      "5\n",
      "9\n",
      "2\n",
      "6\n",
      "******\n",
      "3\n",
      "1\n",
      "4\n",
      "1\n",
      "5\n",
      "9\n",
      "2\n",
      "6\n"
     ]
    }
   ],
   "source": [
    "# Iterate (go through each item) over items\n",
    "\n",
    "# Iterate over a list\n",
    "pythonList = [3, 1, 4, 1, 5, 9, 2, 6]\n",
    "for item in pythonList:\n",
    "    print(item)\n",
    "    \n",
    "print('******')\n",
    "    \n",
    "for i in range(len(pythonList)):\n",
    "    print(pythonList[i])\n",
    "\n",
    "print('******')\n",
    "    \n",
    "count = 0\n",
    "while count < len(pythonList):\n",
    "    print(pythonList[count])\n",
    "    count += 1"
   ]
  },
  {
   "cell_type": "markdown",
   "metadata": {},
   "source": [
    "Useful python libraries (pre installed)"
   ]
  },
  {
   "cell_type": "code",
   "execution_count": 78,
   "metadata": {},
   "outputs": [],
   "source": [
    "import math # for more complex math\n",
    "import random # for making things random\n",
    "import time # for dealing with time, or delaying things\n",
    "import datetime # for date and time features\n",
    "import os # for working with your computer, ex: running terminal commands or working with file paths"
   ]
  },
  {
   "cell_type": "code",
   "execution_count": 82,
   "metadata": {},
   "outputs": [
    {
     "name": "stdout",
     "output_type": "stream",
     "text": [
      "252146\n",
      "as random as a computer can be\n",
      "186\n"
     ]
    }
   ],
   "source": [
    "print(random.randint(100000,999999))\n",
    "print(random.choice(['this one?','maybe this one','its all random','as random as a computer can be']))\n",
    "print(random.randrange(200))\n",
    "\n",
    "# Read more > https://docs.python.org/3/library/random.html"
   ]
  },
  {
   "cell_type": "code",
   "execution_count": 83,
   "metadata": {},
   "outputs": [
    {
     "name": "stdout",
     "output_type": "stream",
     "text": [
      "Here\n",
      "Done\n"
     ]
    }
   ],
   "source": [
    "# Being honest really only use time for delaying code\n",
    "print('Here')\n",
    "time.sleep(5.5) # delay for 5 and 1/2 seconds\n",
    "print('Done')"
   ]
  },
  {
   "cell_type": "code",
   "execution_count": 89,
   "metadata": {},
   "outputs": [
    {
     "name": "stdout",
     "output_type": "stream",
     "text": [
      "2020-06-05 17:13:56.475153\n",
      "Friday June 5, 2020 5:13:56\n",
      "3 days, 13:43:56.476600\n"
     ]
    }
   ],
   "source": [
    "print(datetime.datetime.now()) # Now\n",
    "print(datetime.datetime.now().strftime('%A %B %-d, %Y %-I:%M:%S')) # Now formated using strftime > https://strftime.org/\n",
    "\n",
    "now = datetime.datetime.now()\n",
    "lastSchoolDay = datetime.datetime(year=2020, month=6, day=2, hour=3, minute=30)\n",
    "# Create a datetime object, can include just time just dates or both\n",
    "print(now - lastSchoolDay) \n",
    "# prints days, then exact time since that datetime object\n",
    "\n",
    "# Super powerful and useful library\n",
    "# When used with other librarys helps makes modern day websites and apps possible\n",
    "# Read more here > https://docs.python.org/3/library/datetime.html\n",
    "# This can be useful too \n",
    "# (Dealing with timezones, this helps if you need your app to run on a certain timezone or need to account for daylight savings) \n",
    "# > http://pytz.sourceforge.net/"
   ]
  },
  {
   "cell_type": "markdown",
   "metadata": {},
   "source": [
    "Os can be used for many useful things when working on apps in python\n",
    "It is great at handling files and things like that\n",
    "but when using a notebook like this using os and things like that isn't not ideal and can break"
   ]
  },
  {
   "cell_type": "markdown",
   "metadata": {},
   "source": [
    "You can also read or make files with python, but again not great when working with notebooks"
   ]
  },
  {
   "cell_type": "code",
   "execution_count": null,
   "metadata": {},
   "outputs": [],
   "source": [
    "# This code is commented (won't be run) out but is the code needed for reading and writing files\n",
    "\n",
    "#with open('file.txt', 'r') as readFile:\n",
    "#    lines = readFile.readlines() # https://www.w3schools.com/python/ref_file_readlines.asp\n",
    "\n",
    "# read all the lines of a file\n",
    "#for line in lines:\n",
    "#    print(line)\n",
    "\n",
    "thing = '''\n",
    "Hello There,\n",
    "\n",
    "This a long message\n",
    "\n",
    "with many lines!\n",
    "'''\n",
    "\n",
    "#with open('file.txt', 'w') as writeFile:\n",
    "#    writeFile.write(thing)\n",
    "\n",
    "# There are many ways to do the above code and can be used with json and other files."
   ]
  }
 ],
 "metadata": {
  "colab": {
   "name": "PythonBasics.ipynb",
   "provenance": []
  },
  "kernelspec": {
   "display_name": "Python 3",
   "language": "python",
   "name": "python3"
  },
  "language_info": {
   "codemirror_mode": {
    "name": "ipython",
    "version": 3
   },
   "file_extension": ".py",
   "mimetype": "text/x-python",
   "name": "python",
   "nbconvert_exporter": "python",
   "pygments_lexer": "ipython3",
   "version": "3.6.8"
  }
 },
 "nbformat": 4,
 "nbformat_minor": 1
}
