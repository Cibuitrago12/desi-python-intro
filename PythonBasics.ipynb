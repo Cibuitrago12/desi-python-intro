{
 "cells": [
  {
   "cell_type": "markdown",
   "metadata": {
    "colab_type": "text",
    "id": "HUbeBkUc9-kM"
   },
   "source": [
    "DESI Python Intro!\n",
    "\n",
    "This short notebook will show you some of the basics of python and prepare you to analyze DESI data."
   ]
  },
  {
   "cell_type": "markdown",
   "metadata": {
    "colab_type": "text",
    "id": "IKa1t2AB9-kO"
   },
   "source": [
    "### Variables\n",
    "Creating a variable that holds data such as the number 5"
   ]
  },
  {
   "cell_type": "code",
   "execution_count": 6,
   "metadata": {
    "colab": {},
    "colab_type": "code",
    "id": "mJorPGzP9-kQ"
   },
   "outputs": [
    {
     "name": "stdout",
     "output_type": "stream",
     "text": [
      "5\n"
     ]
    }
   ],
   "source": [
    "# make a new variable, the computer will \n",
    "# store information into this variable \n",
    "# called \"variable\"\n",
    "variable = 5\n",
    "\n",
    "# if we type \"print()\" with the variable name between \n",
    "# the '()' then the computer shows what's inside the variable\n",
    "# this will be a useful function to figure out what is what\n",
    "print(variable) "
   ]
  },
  {
   "cell_type": "markdown",
   "metadata": {
    "colab_type": "text",
    "id": "B7K4i8YP9-kX"
   },
   "source": [
    "Checking the type of the variable, this will show that the variable is an integer"
   ]
  },
  {
   "cell_type": "code",
   "execution_count": 3,
   "metadata": {
    "colab": {},
    "colab_type": "code",
    "id": "jf4D7aUT9-kY"
   },
   "outputs": [
    {
     "name": "stdout",
     "output_type": "stream",
     "text": [
      "<class 'int'>\n"
     ]
    }
   ],
   "source": [
    "# several types in python\n",
    "# integer means number, specifically whole numbers\n",
    "print(type(variable))"
   ]
  },
  {
   "cell_type": "markdown",
   "metadata": {
    "colab_type": "text",
    "id": "50HWD_nd9-ke"
   },
   "source": [
    "Next we will check some other data types that are commonly used in python"
   ]
  },
  {
   "cell_type": "code",
   "execution_count": 4,
   "metadata": {
    "colab": {},
    "colab_type": "code",
    "id": "KAAK9gjW9-ki"
   },
   "outputs": [],
   "source": [
    "integer = 7\n",
    "floatingPoint = 2.5\n",
    "string = 'hello world'\n",
    "boolean = True\n",
    "lists = [3,1,4,1,5,9,2,6]\n",
    "dictionary = {\n",
    "    'key':'value'\n",
    "}"
   ]
  },
  {
   "cell_type": "code",
   "execution_count": 5,
   "metadata": {
    "colab": {},
    "colab_type": "code",
    "id": "_f-2vm_O9-kp"
   },
   "outputs": [
    {
     "name": "stdout",
     "output_type": "stream",
     "text": [
      "<class 'int'>\n",
      "<class 'float'>\n",
      "<class 'str'>\n",
      "<class 'bool'>\n",
      "<class 'list'>\n",
      "<class 'dict'>\n"
     ]
    }
   ],
   "source": [
    "print(type(integer))\n",
    "print(type(floatingPoint))\n",
    "print(type(string))\n",
    "print(type(boolean))\n",
    "print(type(lists))\n",
    "print(type(dictionary))"
   ]
  },
  {
   "cell_type": "markdown",
   "metadata": {
    "colab_type": "text",
    "id": "sPaFfqZh9-ks"
   },
   "source": [
    "Integers are all numbers that are not decimals excluding imaginary or complex and Floats are all numbers excluding imaginary or complex. All integers can be floats but not all floats can be integers unless they are rounded."
   ]
  },
  {
   "cell_type": "markdown",
   "metadata": {
    "colab_type": "text",
    "id": "7QbMuSyF9-ku"
   },
   "source": [
    "Here is code showing how integers and floats can be used and changed to the opposite:"
   ]
  },
  {
   "cell_type": "markdown",
   "metadata": {
    "colab_type": "text",
    "id": "32lP90Pj9-kv"
   },
   "source": [
    "Import math module"
   ]
  },
  {
   "cell_type": "code",
   "execution_count": 7,
   "metadata": {
    "colab": {},
    "colab_type": "code",
    "id": "FcTXVGPF9-kw"
   },
   "outputs": [],
   "source": [
    "import math"
   ]
  },
  {
   "cell_type": "markdown",
   "metadata": {
    "colab_type": "text",
    "id": "gv6ovT7U9-k0"
   },
   "source": [
    "Create an integer and float variable"
   ]
  },
  {
   "cell_type": "code",
   "execution_count": 10,
   "metadata": {
    "colab": {},
    "colab_type": "code",
    "id": "LIkAKlvt9-k1"
   },
   "outputs": [
    {
     "name": "stdout",
     "output_type": "stream",
     "text": [
      "99\n",
      "109.0\n"
     ]
    }
   ],
   "source": [
    "integer = 99\n",
    "floatVersion = float(integer + 5) + 5.0\n",
    "print(integer)\n",
    "print(floatVersion)"
   ]
  },
  {
   "cell_type": "markdown",
   "metadata": {
    "colab_type": "text",
    "id": "bfCT4CYN9-k5"
   },
   "source": [
    "Check if the floats are integers"
   ]
  },
  {
   "cell_type": "code",
   "execution_count": 11,
   "metadata": {
    "colab": {},
    "colab_type": "code",
    "id": "zXCMwOzO9-k6"
   },
   "outputs": [
    {
     "name": "stdout",
     "output_type": "stream",
     "text": [
      "This float is an int!\n",
      "This float is not an int\n"
     ]
    }
   ],
   "source": [
    "if floatVersion.is_integer():\n",
    "    print('This float is an int!')\n",
    "else:\n",
    "    print('This float is not an int')\n",
    "\n",
    "otherVar = 35.3521\n",
    "\n",
    "if otherVar.is_integer():\n",
    "    print('This float is an int!')\n",
    "else:\n",
    "    print('This float is not an int')"
   ]
  },
  {
   "cell_type": "markdown",
   "metadata": {
    "colab_type": "text",
    "id": "-MWd6BIO9-k-"
   },
   "source": [
    "Convert floats to ints in 4 different methods"
   ]
  },
  {
   "cell_type": "code",
   "execution_count": 12,
   "metadata": {
    "colab": {},
    "colab_type": "code",
    "id": "7Y4E55Sy9-k_"
   },
   "outputs": [
    {
     "name": "stdout",
     "output_type": "stream",
     "text": [
      "657\n",
      "658\n",
      "125\n",
      "124\n"
     ]
    }
   ],
   "source": [
    "print(int(657.99999))\n",
    "print(round(657.9999))\n",
    "\n",
    "print(math.ceil(124.5))\n",
    "print(math.floor(124.5))"
   ]
  },
  {
   "cell_type": "markdown",
   "metadata": {
    "colab_type": "text",
    "id": "L6ubZrZY9-lC"
   },
   "source": [
    "Next is some code on strings"
   ]
  },
  {
   "cell_type": "markdown",
   "metadata": {
    "colab_type": "text",
    "id": "KfY89v3F9-lC"
   },
   "source": [
    "Substrings/Slicing strings"
   ]
  },
  {
   "cell_type": "code",
   "execution_count": 18,
   "metadata": {
    "colab": {},
    "colab_type": "code",
    "id": "pq43lFy-9-lD"
   },
   "outputs": [
    {
     "name": "stdout",
     "output_type": "stream",
     "text": [
      "Hello World\n",
      "\n",
      "Rafael's Thing\n",
      "\n",
      "Here\n",
      "\n",
      "ll\n",
      "HloWrd\n",
      "dlroW olleH\n"
     ]
    }
   ],
   "source": [
    "string = 'Hello World'\n",
    "print(string)\n",
    "multi = '''\n",
    "Rafael's Thing\n",
    "\n",
    "Here\n",
    "'''\n",
    "print(multi)\n",
    "# printing from the second to fourth character excluding the fourth character\n",
    "print(string[2:4])\n",
    "# printing every other character\n",
    "print(string[::2])\n",
    "# reviersing the string\n",
    "print(string[::-1])"
   ]
  },
  {
   "cell_type": "markdown",
   "metadata": {
    "colab_type": "text",
    "id": "5Ss-GQyw9-lG"
   },
   "source": [
    "converting items to strings"
   ]
  },
  {
   "cell_type": "code",
   "execution_count": 28,
   "metadata": {
    "colab": {},
    "colab_type": "code",
    "id": "5-6uI5O49-lG"
   },
   "outputs": [
    {
     "name": "stdout",
     "output_type": "stream",
     "text": [
      "<class 'str'>\n",
      "5453364\n",
      "987.87\n",
      "sjhfkjsdhjkhd 5 adasds\n",
      "Here is the first number 5, here is the second number 129.389, here is the sum 134.389\n"
     ]
    }
   ],
   "source": [
    "print(type(str(5453364)))\n",
    "print(str(5453364))\n",
    "print(str(987.87))\n",
    "\n",
    "# F-strings new to python 3.6 and above\n",
    "# This allows you to input variables of any type and do simple operations like math\n",
    "print('sjhfkjsdhjkhd {} adasds'.format(5))\n",
    "number = 5\n",
    "other = 129.389\n",
    "print(f'Here is the first number {number}, here is the second number {other}, here is the sum {number + other}')"
   ]
  },
  {
   "cell_type": "code",
   "execution_count": 30,
   "metadata": {},
   "outputs": [
    {
     "name": "stdout",
     "output_type": "stream",
     "text": [
      "sjhfkjsdhjkhd 5 adasds 129.389 , 5\n"
     ]
    }
   ],
   "source": [
    "print('sjhfkjsdhjkhd {number} adasds {num2} , {number}'.format(number=number, num2=other))"
   ]
  },
  {
   "cell_type": "code",
   "execution_count": 29,
   "metadata": {},
   "outputs": [
    {
     "name": "stdout",
     "output_type": "stream",
     "text": [
      "Here is the first number 5, here is the second number 129.389, here is the sum 134.389\n"
     ]
    }
   ],
   "source": [
    "print(f'Here is the first number {number}, here is the second number {other}, here is the sum {number + other}')"
   ]
  },
  {
   "cell_type": "markdown",
   "metadata": {
    "colab_type": "text",
    "id": "zm2eiWm4-sqa"
   },
   "source": [
    "### Functions aka Methods\n",
    "Making and calling them\n"
   ]
  },
  {
   "cell_type": "code",
   "execution_count": 1,
   "metadata": {
    "colab": {},
    "colab_type": "code",
    "id": "hPbFj-99-Ukk"
   },
   "outputs": [
    {
     "name": "stdout",
     "output_type": "stream",
     "text": [
      "1024\n"
     ]
    }
   ],
   "source": [
    "# This is a function\n",
    "# A function allows us to repeat a bunch of code when we call\" it\n",
    "# We pass in given information such as the base and power\n",
    "def exponent(base, power):\n",
    "\n",
    "  # another cool trick that python has is ** which is the operation to do exponents\n",
    "  ex = base ** power\n",
    "\n",
    "  # every function has a return statement,\n",
    "  # sometimes you don't need to type out return\n",
    "  # because you're not returning anything\n",
    "  return ex\n",
    "\n",
    "# this is where we \"call\" a function to run a piece of code\n",
    "# whenever we need to use it\n",
    "answer = exponent(2, 10)\n",
    "\n",
    "# Notice that print is also a function that when given a variable \n",
    "# it will display on screen what's inside it.\n",
    "print(answer)"
   ]
  },
  {
   "cell_type": "markdown",
   "metadata": {},
   "source": [
    "Use cases for functions\n"
   ]
  },
  {
   "cell_type": "code",
   "execution_count": 3,
   "metadata": {},
   "outputs": [
    {
     "name": "stdout",
     "output_type": "stream",
     "text": [
      "3299.3352450469242\n"
     ]
    }
   ],
   "source": [
    "# Functions are used to run a piece of code over and over again\n",
    "# An example in DESI is that you want to figure out the wavelengths\n",
    "# of light emitted by a Hydrogen atom for different high and low \n",
    "# energy levels, n and m respectively. \n",
    "def Rydberg(n, m):\n",
    "    \n",
    "    # Vacuum wavelengths [nanometres]\n",
    "    # This is just how to express the formula in terms of \n",
    "    # python code\n",
    "    result = 1.096e-2 * (1. / n / n - 1. / m / m)\n",
    "    \n",
    "    # Here you can see that we are feeding the result back\n",
    "    # to where it was called\n",
    "    return 1. / result\n",
    "\n",
    "# Call the function\n",
    "wavelength = Rydberg(5, 9) # the function will \"return\" the result into the variable wavelength\n",
    "print(wavelength)"
   ]
  },
  {
   "cell_type": "markdown",
   "metadata": {
    "colab_type": "text",
    "id": "2I2xseoPCr4s"
   },
   "source": [
    "Making classes (the blueprint for objects)\n"
   ]
  },
  {
   "cell_type": "code",
   "execution_count": 34,
   "metadata": {
    "colab": {},
    "colab_type": "code",
    "id": "xuKfuvoG_Ws1"
   },
   "outputs": [],
   "source": [
    "# Car\n",
    "class Automobile(object):\n",
    "\n",
    "  # the init has parameters so that\n",
    "  # we can set values of the class on our own\n",
    "  # python will require that we use the 'self'\n",
    "  # syntax, a special symbol \n",
    "  def __init__(self, num_wheels, color, max_speed, acceleration):\n",
    "\n",
    "    # this is where we set the properties of a class\n",
    "    # which in this case is the properties for a car\n",
    "    # the difference between 'self.num_wheels' and num_wheels\n",
    "    # and the other parameters passed to the init function\n",
    "    # is that the object can access the variables with the \n",
    "    # 'self' symbol like so:\n",
    "    # Car.num_wheels\n",
    "\n",
    "    self.num_wheels = num_wheels\n",
    "    self.color = color\n",
    "    self.max_speed = max_speed\n",
    "    self.acceleration = acceleration\n",
    "\n",
    "  # objects can have functions so here we're creating a function that only the object\n",
    "  # can call like so:\n",
    "  # Car.drive()\n",
    "  def drive(self):\n",
    "    print(f\"This car is driving with an acceleration of {self.acceleration} mph^2 and will reach a max speed of {self.max_speed} mph in {self.max_speed/self.acceleration} seconds\")\n",
    "\n",
    "car = Automobile(4, \"blue\", 120, 10)\n",
    "car2 = Automobile(3, \"blue\", 50, 3)"
   ]
  },
  {
   "cell_type": "code",
   "execution_count": 35,
   "metadata": {
    "colab": {
     "base_uri": "https://localhost:8080/",
     "height": 85
    },
    "colab_type": "code",
    "id": "StWS-lS1B-vM",
    "outputId": "9f67db39-cb6e-47ea-bad8-f153e2d191fd"
   },
   "outputs": [
    {
     "name": "stdout",
     "output_type": "stream",
     "text": [
      "4\n",
      "blue\n",
      "120\n",
      "10\n",
      "This car is driving with an acceleration of 10 mph^2 and will reach a max speed of 120 mph in 12.0 seconds\n",
      "This car is driving with an acceleration of 3 mph^2 and will reach a max speed of 50 mph in 16.666666666666668 seconds\n"
     ]
    }
   ],
   "source": [
    "print(car.num_wheels)\n",
    "print(car.color)\n",
    "print(car.max_speed)\n",
    "print(car.acceleration)\n",
    "car.drive()\n",
    "car2.drive()"
   ]
  },
  {
   "cell_type": "markdown",
   "metadata": {
    "colab_type": "text",
    "id": "yBuu10i3C3Fl"
   },
   "source": [
    "Class Inheritance"
   ]
  },
  {
   "cell_type": "code",
   "execution_count": 43,
   "metadata": {
    "colab": {},
    "colab_type": "code",
    "id": "9LvaYQiTCFKP"
   },
   "outputs": [
    {
     "name": "stdout",
     "output_type": "stream",
     "text": [
      "This car is driving with an acceleration of 20 mph^2 and will reach a max speed of 150 mph in 7.5 seconds\n"
     ]
    }
   ],
   "source": [
    "# Classes can be inherited meaning we can make a new class with some of the 'old' stuff \n",
    "# from the 'parent' class\n",
    "# Programmers like to describe this as a parent child relationship\n",
    "# Car (old/parent class)\n",
    "# \\\n",
    "#  \\\n",
    "#  Tesla (new/child class)\n",
    "class Tesla(Automobile):\n",
    "\n",
    "  def __init__(self, color, max_speed, acceleration, electric=True):\n",
    "\n",
    "    # This is refering to the Automobile class init function\n",
    "    super().__init__(4, color, max_speed, acceleration)\n",
    "\n",
    "    # now we can set our unique properties of a tesla car class\n",
    "    self.electric = electric\n",
    "\n",
    "tesla_car = Tesla(color=\"red\", max_speed=150, acceleration=20)"
   ]
  },
  {
   "cell_type": "code",
   "execution_count": 39,
   "metadata": {
    "colab": {},
    "colab_type": "code",
    "id": "ScDSZvhQEqb_"
   },
   "outputs": [
    {
     "name": "stdout",
     "output_type": "stream",
     "text": [
      "4\n",
      "red\n",
      "150\n",
      "20\n",
      "This car is driving with an acceleration of 20 mph^2 and will reach a max speed of 150 mph in 7.5 seconds\n"
     ]
    }
   ],
   "source": [
    "print(tesla_car.num_wheels)\n",
    "print(tesla_car.color)\n",
    "print(tesla_car.max_speed)\n",
    "print(tesla_car.acceleration)\n",
    "# see how the tesla car can use the drive function eventhough we didn't \n",
    "# write it in the Tesla class code\n",
    "tesla_car.drive()"
   ]
  },
  {
   "cell_type": "markdown",
   "metadata": {
    "colab_type": "text",
    "id": "5c0Ka6WrFXEV"
   },
   "source": [
    "Methods: multi value return"
   ]
  },
  {
   "cell_type": "code",
   "execution_count": 53,
   "metadata": {
    "colab": {},
    "colab_type": "code",
    "id": "QSHZt2-hE5Nh"
   },
   "outputs": [],
   "source": [
    "def backpack_contents():\n",
    "  var = {'mybackpack':{},'capbackpack':{}}\n",
    "  var['mybackpack']['writingUtensil'] = 'pencil'\n",
    "  var['mybackpack']['readingMaterial'] = 'book'\n",
    "  var['capbackpack']['writingUtensil'] = ['pen','pencil']\n",
    "  var['capbackpack']['readingMaterial'] = 'nook'\n",
    "  return var\n",
    "\n",
    "obj1 = backpack_contents()"
   ]
  },
  {
   "cell_type": "code",
   "execution_count": 54,
   "metadata": {
    "colab": {},
    "colab_type": "code",
    "id": "QdeCEqbcFqYf"
   },
   "outputs": [
    {
     "name": "stdout",
     "output_type": "stream",
     "text": [
      "{'mybackpack': {'writingUtensil': 'pencil', 'readingMaterial': 'book'}, 'capbackpack': {'writingUtensil': ['pen', 'pencil'], 'readingMaterial': 'nook'}}\n"
     ]
    }
   ],
   "source": [
    "print(obj1)"
   ]
  },
  {
   "cell_type": "markdown",
   "metadata": {
    "colab_type": "text",
    "id": "aic7UvQQGeEO"
   },
   "source": [
    "In keyword in python\n"
   ]
  },
  {
   "cell_type": "code",
   "execution_count": 56,
   "metadata": {
    "colab": {},
    "colab_type": "code",
    "id": "ZZx2QU_aFxcD"
   },
   "outputs": [
    {
     "name": "stdout",
     "output_type": "stream",
     "text": [
      "there are apples\n"
     ]
    }
   ],
   "source": [
    "available_food = ['apples', 'oranges', 'hotdogs', 'steak']\n",
    "bigString = 'hello apples there'\n",
    "if 'apples' in bigString:\n",
    "  print('there are apples')"
   ]
  },
  {
   "cell_type": "markdown",
   "metadata": {
    "colab_type": "text",
    "id": "QAkc7hoGG_Vt"
   },
   "source": [
    "Advanced python: Yield"
   ]
  },
  {
   "cell_type": "code",
   "execution_count": 59,
   "metadata": {
    "colab": {},
    "colab_type": "code",
    "id": "aANrqh6oGckn"
   },
   "outputs": [
    {
     "name": "stdout",
     "output_type": "stream",
     "text": [
      "0\n",
      "1\n",
      "2\n",
      "3\n",
      "4\n",
      "5\n",
      "6\n",
      "7\n",
      "8\n",
      "9\n"
     ]
    }
   ],
   "source": [
    "from time import sleep\n",
    "\n",
    "# This is a generator... don't eagerly compute. Return to user as they ask for it...\n",
    "\n",
    "def compute():\n",
    "    for i in range(10):\n",
    "\n",
    "        # performs some computation\n",
    "\n",
    "        sleep(2) # sleep models the complex computation\n",
    "\n",
    "        # give the value back to the user to do something\n",
    "        yield i # -> used for generators/sequencing\t\n",
    "'''\n",
    "Core concept and mental model of a generator\n",
    "Instead of eagerly computing values you give \n",
    "it to the user as they ask for it\n",
    "Let a little library code run, then\n",
    "let a little user code run\n",
    "Let a little library code run, then\n",
    "let a little user code run\n",
    "Interleave them\n",
    "Core conceptualization of generators\n",
    "'''\n",
    "\n",
    "for val in compute():\n",
    "    # user do what ever they want to do with value\n",
    "    print(val)"
   ]
  },
  {
   "cell_type": "markdown",
   "metadata": {
    "colab": {},
    "colab_type": "code",
    "id": "3APOQAV1HB0I"
   },
   "source": [
    "Loops!"
   ]
  },
  {
   "cell_type": "code",
   "execution_count": 60,
   "metadata": {},
   "outputs": [
    {
     "name": "stdout",
     "output_type": "stream",
     "text": [
      "3\n",
      "1\n",
      "4\n",
      "1\n",
      "5\n",
      "9\n",
      "2\n",
      "6\n",
      "******\n",
      "3\n",
      "1\n",
      "4\n",
      "1\n",
      "5\n",
      "9\n",
      "2\n",
      "6\n",
      "******\n",
      "3\n",
      "1\n",
      "4\n",
      "1\n",
      "5\n",
      "9\n",
      "2\n",
      "6\n"
     ]
    }
   ],
   "source": [
    "# Iterate (go through each item) over items\n",
    "\n",
    "# Iterate over a list\n",
    "pythonList = [3, 1, 4, 1, 5, 9, 2, 6]\n",
    "for item in pythonList:\n",
    "    print(item)\n",
    "    \n",
    "print('******')\n",
    "    \n",
    "for i in range(len(pythonList)):\n",
    "    print(pythonList[i])\n",
    "\n",
    "print('******')\n",
    "    \n",
    "count = 0\n",
    "while count < len(pythonList):\n",
    "    print(pythonList[count])\n",
    "    count += 1"
   ]
  },
  {
   "cell_type": "code",
   "execution_count": 65,
   "metadata": {},
   "outputs": [
    {
     "name": "stdout",
     "output_type": "stream",
     "text": [
      "['H', 'e', 'l', 'l', 'o', ' ', 'W', 'o', 'r', 'l', 'd']\n",
      "H\n",
      "e\n",
      "l\n",
      "l\n",
      "o\n",
      " \n",
      "W\n",
      "o\n",
      "r\n",
      "l\n",
      "d\n",
      "******\n",
      "H\n",
      "e\n",
      "l\n",
      "l\n",
      "o\n"
     ]
    }
   ],
   "source": [
    "# Go through each character in a string or part of a string\n",
    "string = 'Hello World'\n",
    "string = list(string)\n",
    "print(string)\n",
    "for letter in string:\n",
    "    print(letter)\n",
    "\n",
    "print('******')\n",
    "\n",
    "for letter in string[:5]:\n",
    "    print(letter)"
   ]
  },
  {
   "cell_type": "code",
   "execution_count": 71,
   "metadata": {},
   "outputs": [],
   "source": [
    "strings = 'string string 343 343 44343 34 3 43'"
   ]
  },
  {
   "cell_type": "code",
   "execution_count": 73,
   "metadata": {},
   "outputs": [],
   "source": [
    "thing = strings.split(' ')"
   ]
  },
  {
   "cell_type": "code",
   "execution_count": 76,
   "metadata": {},
   "outputs": [
    {
     "data": {
      "text/plain": [
       "'string+string+343+343+44343+34+3+43'"
      ]
     },
     "execution_count": 76,
     "metadata": {},
     "output_type": "execute_result"
    }
   ],
   "source": [
    "'+'.join(thing)"
   ]
  },
  {
   "cell_type": "code",
   "execution_count": null,
   "metadata": {},
   "outputs": [],
   "source": [
    "# Go through each character in a string or part of a string\n",
    "string = 'Hello World'\n",
    "for letter in string:\n",
    "    print(letter)\n",
    "\n",
    "print('******')\n",
    "    \n",
    "for letter in string[:5]:\n",
    "    print(letter)"
   ]
  },
  {
   "cell_type": "code",
   "execution_count": 77,
   "metadata": {},
   "outputs": [
    {
     "name": "stdout",
     "output_type": "stream",
     "text": [
      "0\n",
      "1\n",
      "2\n",
      "3\n",
      "4\n",
      "5\n",
      "6\n",
      "7\n",
      "8\n",
      "9\n",
      "10\n",
      "11\n",
      "12\n",
      "13\n",
      "14\n",
      "15\n",
      "16\n",
      "17\n",
      "18\n",
      "19\n",
      "20\n",
      "21\n",
      "22\n",
      "23\n",
      "24\n",
      "25\n",
      "26\n",
      "27\n",
      "28\n",
      "29\n",
      "30\n",
      "31\n",
      "32\n",
      "33\n",
      "34\n",
      "35\n",
      "36\n",
      "37\n",
      "38\n",
      "39\n",
      "40\n",
      "41\n",
      "42\n",
      "43\n",
      "44\n",
      "45\n",
      "46\n",
      "47\n",
      "48\n",
      "49\n",
      "50\n",
      "51\n",
      "52\n",
      "53\n",
      "54\n",
      "55\n",
      "56\n",
      "57\n",
      "58\n",
      "59\n",
      "60\n",
      "61\n",
      "62\n",
      "63\n",
      "64\n",
      "65\n",
      "66\n",
      "67\n",
      "68\n",
      "69\n",
      "70\n",
      "71\n",
      "72\n",
      "73\n",
      "74\n",
      "75\n",
      "76\n",
      "77\n",
      "78\n",
      "79\n",
      "80\n",
      "81\n",
      "82\n",
      "83\n",
      "84\n",
      "85\n",
      "86\n",
      "87\n",
      "88\n",
      "89\n",
      "90\n",
      "91\n",
      "92\n",
      "93\n",
      "94\n",
      "95\n",
      "96\n",
      "97\n",
      "98\n",
      "99\n",
      "100\n",
      "101\n",
      "102\n",
      "103\n",
      "104\n",
      "105\n",
      "106\n",
      "107\n",
      "108\n",
      "109\n",
      "110\n",
      "111\n",
      "112\n",
      "113\n",
      "114\n",
      "115\n",
      "116\n",
      "117\n",
      "118\n",
      "119\n",
      "120\n",
      "121\n",
      "122\n",
      "123\n",
      "124\n",
      "125\n",
      "126\n",
      "127\n",
      "128\n",
      "129\n",
      "130\n",
      "131\n",
      "132\n",
      "133\n",
      "134\n",
      "135\n",
      "136\n",
      "137\n",
      "138\n",
      "139\n",
      "140\n",
      "141\n",
      "142\n",
      "143\n",
      "144\n",
      "145\n",
      "146\n",
      "147\n",
      "148\n",
      "149\n",
      "150\n",
      "151\n",
      "152\n",
      "153\n",
      "154\n",
      "155\n",
      "156\n",
      "157\n",
      "158\n",
      "159\n",
      "160\n",
      "161\n",
      "162\n",
      "163\n",
      "164\n",
      "165\n",
      "166\n",
      "167\n",
      "168\n",
      "169\n",
      "170\n",
      "171\n",
      "172\n",
      "173\n",
      "174\n",
      "175\n",
      "176\n",
      "177\n",
      "178\n",
      "179\n",
      "180\n",
      "181\n",
      "182\n",
      "183\n",
      "184\n",
      "185\n",
      "186\n",
      "187\n",
      "188\n",
      "189\n",
      "190\n",
      "191\n",
      "192\n",
      "193\n",
      "194\n",
      "195\n",
      "196\n",
      "197\n",
      "198\n",
      "199\n",
      "200\n",
      "201\n",
      "202\n",
      "203\n",
      "204\n",
      "205\n",
      "206\n",
      "207\n",
      "208\n",
      "209\n",
      "210\n",
      "211\n",
      "212\n",
      "213\n",
      "214\n",
      "215\n",
      "216\n",
      "217\n",
      "218\n",
      "219\n",
      "220\n",
      "221\n",
      "222\n",
      "223\n",
      "224\n",
      "225\n",
      "226\n",
      "227\n",
      "228\n",
      "229\n",
      "230\n",
      "231\n",
      "232\n",
      "233\n",
      "234\n",
      "235\n",
      "236\n",
      "237\n",
      "238\n",
      "239\n",
      "240\n",
      "241\n",
      "242\n",
      "243\n",
      "244\n",
      "245\n",
      "246\n",
      "247\n",
      "248\n",
      "249\n",
      "250\n",
      "251\n",
      "252\n",
      "253\n",
      "254\n",
      "255\n",
      "256\n",
      "257\n",
      "258\n",
      "259\n",
      "260\n",
      "261\n",
      "262\n",
      "263\n",
      "264\n",
      "265\n",
      "266\n",
      "267\n",
      "268\n",
      "269\n",
      "270\n",
      "271\n",
      "272\n",
      "273\n",
      "274\n",
      "275\n",
      "276\n",
      "277\n",
      "278\n",
      "279\n",
      "280\n",
      "281\n",
      "282\n",
      "283\n",
      "284\n",
      "285\n",
      "286\n",
      "287\n",
      "288\n",
      "289\n",
      "290\n",
      "291\n",
      "292\n",
      "293\n",
      "294\n",
      "295\n",
      "296\n",
      "297\n",
      "298\n",
      "299\n",
      "300\n",
      "301\n",
      "302\n",
      "303\n",
      "304\n",
      "305\n",
      "306\n",
      "307\n",
      "308\n",
      "309\n",
      "310\n",
      "311\n",
      "312\n",
      "313\n",
      "314\n",
      "315\n",
      "316\n",
      "317\n",
      "318\n",
      "319\n",
      "320\n",
      "321\n",
      "322\n",
      "323\n",
      "324\n",
      "325\n",
      "326\n",
      "327\n",
      "328\n",
      "329\n",
      "330\n",
      "331\n",
      "332\n",
      "333\n",
      "334\n",
      "335\n",
      "336\n",
      "337\n",
      "338\n",
      "339\n",
      "340\n",
      "341\n",
      "342\n",
      "343\n",
      "344\n",
      "345\n",
      "346\n",
      "347\n",
      "348\n",
      "349\n",
      "350\n",
      "351\n",
      "352\n",
      "353\n",
      "354\n",
      "355\n",
      "356\n",
      "357\n",
      "358\n",
      "359\n",
      "360\n",
      "361\n",
      "362\n",
      "363\n",
      "364\n",
      "365\n",
      "366\n",
      "367\n",
      "368\n",
      "369\n",
      "370\n",
      "371\n",
      "372\n",
      "373\n",
      "374\n",
      "375\n",
      "376\n",
      "377\n",
      "378\n",
      "379\n",
      "380\n",
      "381\n",
      "382\n",
      "383\n",
      "384\n",
      "385\n",
      "386\n",
      "387\n",
      "388\n",
      "389\n",
      "390\n",
      "391\n",
      "392\n",
      "393\n",
      "394\n",
      "395\n",
      "396\n",
      "397\n",
      "398\n",
      "399\n",
      "400\n",
      "401\n",
      "402\n",
      "403\n",
      "404\n",
      "405\n",
      "406\n",
      "407\n",
      "408\n",
      "409\n",
      "410\n",
      "411\n",
      "412\n",
      "413\n",
      "414\n",
      "415\n",
      "416\n",
      "417\n",
      "418\n",
      "419\n",
      "420\n",
      "421\n",
      "422\n",
      "423\n",
      "424\n",
      "425\n",
      "426\n",
      "427\n",
      "428\n",
      "429\n",
      "430\n",
      "431\n",
      "432\n",
      "433\n",
      "434\n",
      "435\n",
      "436\n",
      "437\n",
      "438\n",
      "439\n",
      "440\n",
      "441\n",
      "442\n",
      "443\n",
      "444\n",
      "445\n",
      "446\n",
      "447\n",
      "448\n",
      "449\n",
      "450\n",
      "451\n",
      "452\n",
      "453\n",
      "454\n",
      "455\n",
      "456\n",
      "457\n",
      "458\n",
      "459\n",
      "460\n",
      "461\n",
      "462\n",
      "463\n",
      "464\n",
      "465\n",
      "466\n",
      "467\n",
      "468\n",
      "469\n",
      "470\n",
      "471\n",
      "472\n",
      "473\n",
      "474\n",
      "475\n",
      "476\n",
      "477\n",
      "478\n",
      "479\n",
      "480\n",
      "481\n",
      "482\n",
      "483\n",
      "484\n",
      "485\n",
      "486\n",
      "487\n",
      "488\n",
      "489\n",
      "490\n",
      "491\n",
      "492\n",
      "493\n",
      "494\n",
      "495\n",
      "496\n",
      "497\n",
      "498\n",
      "499\n"
     ]
    }
   ],
   "source": [
    "# infitite loop / one that ends from the break statment\n",
    "count = 0\n",
    "while True:\n",
    "    if count >= 500:\n",
    "        break\n",
    "    print(count)\n",
    "    count += 1"
   ]
  },
  {
   "cell_type": "markdown",
   "metadata": {},
   "source": [
    "Useful python libraries (pre installed)"
   ]
  },
  {
   "cell_type": "code",
   "execution_count": 78,
   "metadata": {},
   "outputs": [],
   "source": [
    "import math # for more complex math\n",
    "import random # for making things random\n",
    "import time # for dealing with time, or delaying things\n",
    "import datetime # for date and time features\n",
    "import os # for working with your computer, ex: running terminal commands or working with file paths"
   ]
  },
  {
   "cell_type": "code",
   "execution_count": 82,
   "metadata": {},
   "outputs": [
    {
     "name": "stdout",
     "output_type": "stream",
     "text": [
      "252146\n",
      "as random as a computer can be\n",
      "186\n"
     ]
    }
   ],
   "source": [
    "print(random.randint(100000,999999))\n",
    "print(random.choice(['this one?','maybe this one','its all random','as random as a computer can be']))\n",
    "print(random.randrange(200))\n",
    "\n",
    "# Read more > https://docs.python.org/3/library/random.html"
   ]
  },
  {
   "cell_type": "code",
   "execution_count": 83,
   "metadata": {},
   "outputs": [
    {
     "name": "stdout",
     "output_type": "stream",
     "text": [
      "Here\n",
      "Done\n"
     ]
    }
   ],
   "source": [
    "# Being honest really only use time for delaying code\n",
    "print('Here')\n",
    "time.sleep(5.5) # delay for 5 and 1/2 seconds\n",
    "print('Done')"
   ]
  },
  {
   "cell_type": "code",
   "execution_count": 89,
   "metadata": {},
   "outputs": [
    {
     "name": "stdout",
     "output_type": "stream",
     "text": [
      "2020-06-05 17:13:56.475153\n",
      "Friday June 5, 2020 5:13:56\n",
      "3 days, 13:43:56.476600\n"
     ]
    }
   ],
   "source": [
    "print(datetime.datetime.now()) # Now\n",
    "print(datetime.datetime.now().strftime('%A %B %-d, %Y %-I:%M:%S')) # Now formated using strftime > https://strftime.org/\n",
    "\n",
    "now = datetime.datetime.now()\n",
    "lastSchoolDay = datetime.datetime(year=2020, month=6, day=2, hour=3, minute=30)\n",
    "# Create a datetime object, can include just time just dates or both\n",
    "print(now - lastSchoolDay) \n",
    "# prints days, then exact time since that datetime object\n",
    "\n",
    "# Super powerful and useful library\n",
    "# When used with other librarys helps makes modern day websites and apps possible\n",
    "# Read more here > https://docs.python.org/3/library/datetime.html\n",
    "# This can be useful too \n",
    "# (Dealing with timezones, this helps if you need your app to run on a certain timezone or need to account for daylight savings) \n",
    "# > http://pytz.sourceforge.net/"
   ]
  },
  {
   "cell_type": "markdown",
   "metadata": {},
   "source": [
    "Os can be used for many useful things when working on apps in python\n",
    "It is great at handling files and things like that\n",
    "but when using a notebook like this using os and things like that isn't not ideal and can break"
   ]
  },
  {
   "cell_type": "markdown",
   "metadata": {},
   "source": [
    "You can also read or make files with python, but again not great when working with notebooks"
   ]
  },
  {
   "cell_type": "code",
   "execution_count": null,
   "metadata": {},
   "outputs": [],
   "source": [
    "# This code is commented (won't be run) out but is the code needed for reading and writing files\n",
    "\n",
    "#with open('file.txt', 'r') as readFile:\n",
    "#    lines = readFile.readlines() # https://www.w3schools.com/python/ref_file_readlines.asp\n",
    "\n",
    "# read all the lines of a file\n",
    "#for line in lines:\n",
    "#    print(line)\n",
    "\n",
    "thing = '''\n",
    "Hello There,\n",
    "\n",
    "This a long message\n",
    "\n",
    "with many lines!\n",
    "'''\n",
    "\n",
    "#with open('file.txt', 'w') as writeFile:\n",
    "#    writeFile.write(thing)\n",
    "\n",
    "# There are many ways to do the above code and can be used with json and other files."
   ]
  }
 ],
 "metadata": {
  "colab": {
   "name": "PythonBasics.ipynb",
   "provenance": []
  },
  "kernelspec": {
   "display_name": "Python 3",
   "language": "python",
   "name": "python3"
  },
  "language_info": {
   "codemirror_mode": {
    "name": "ipython",
    "version": 3
   },
   "file_extension": ".py",
   "mimetype": "text/x-python",
   "name": "python",
   "nbconvert_exporter": "python",
   "pygments_lexer": "ipython3",
   "version": "3.6.8"
  }
 },
 "nbformat": 4,
 "nbformat_minor": 1
}
